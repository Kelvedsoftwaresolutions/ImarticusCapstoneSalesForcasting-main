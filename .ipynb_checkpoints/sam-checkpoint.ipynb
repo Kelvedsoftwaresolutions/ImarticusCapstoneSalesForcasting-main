{
 "cells": [
  {
   "cell_type": "code",
   "execution_count": 33,
   "metadata": {},
   "outputs": [],
   "source": [
    "# Packages\n",
    "import numpy as np\n",
    "import pandas as pd\n",
    "import matplotlib.pyplot as plt\n",
    "import seaborn as sns\n",
    "from datetime import datetime\n",
    "%matplotlib inline"
   ]
  },
  {
   "cell_type": "code",
   "execution_count": 18,
   "metadata": {},
   "outputs": [
    {
     "data": {
      "text/html": [
       "<div>\n",
       "<style scoped>\n",
       "    .dataframe tbody tr th:only-of-type {\n",
       "        vertical-align: middle;\n",
       "    }\n",
       "\n",
       "    .dataframe tbody tr th {\n",
       "        vertical-align: top;\n",
       "    }\n",
       "\n",
       "    .dataframe thead th {\n",
       "        text-align: right;\n",
       "    }\n",
       "</style>\n",
       "<table border=\"1\" class=\"dataframe\">\n",
       "  <thead>\n",
       "    <tr style=\"text-align: right;\">\n",
       "      <th></th>\n",
       "      <th>FIN_YEAR</th>\n",
       "      <th>MONTH</th>\n",
       "      <th>STATE</th>\n",
       "      <th>FG</th>\n",
       "      <th>DISTRICT</th>\n",
       "      <th>COMPANY</th>\n",
       "      <th>VALUE</th>\n",
       "    </tr>\n",
       "  </thead>\n",
       "  <tbody>\n",
       "    <tr>\n",
       "      <th>49</th>\n",
       "      <td>2014-2015</td>\n",
       "      <td>Dec</td>\n",
       "      <td>Haryana</td>\n",
       "      <td>Insecticides</td>\n",
       "      <td>Ambala</td>\n",
       "      <td>ABC Manufacturing</td>\n",
       "      <td>6019.380</td>\n",
       "    </tr>\n",
       "    <tr>\n",
       "      <th>50</th>\n",
       "      <td>2014-2015</td>\n",
       "      <td>Dec</td>\n",
       "      <td>Haryana</td>\n",
       "      <td>Insecticides</td>\n",
       "      <td>Yamunanagar</td>\n",
       "      <td>ABC Manufacturing</td>\n",
       "      <td>425.250</td>\n",
       "    </tr>\n",
       "    <tr>\n",
       "      <th>51</th>\n",
       "      <td>2014-2015</td>\n",
       "      <td>Dec</td>\n",
       "      <td>Haryana</td>\n",
       "      <td>Insecticides</td>\n",
       "      <td>Karnal</td>\n",
       "      <td>ABC Manufacturing</td>\n",
       "      <td>14782.635</td>\n",
       "    </tr>\n",
       "    <tr>\n",
       "      <th>52</th>\n",
       "      <td>2014-2015</td>\n",
       "      <td>Dec</td>\n",
       "      <td>Haryana</td>\n",
       "      <td>Insecticides</td>\n",
       "      <td>Panipat</td>\n",
       "      <td>ABC Manufacturing</td>\n",
       "      <td>4031.910</td>\n",
       "    </tr>\n",
       "    <tr>\n",
       "      <th>53</th>\n",
       "      <td>2014-2015</td>\n",
       "      <td>Dec</td>\n",
       "      <td>Haryana</td>\n",
       "      <td>Insecticides</td>\n",
       "      <td>Sonipat</td>\n",
       "      <td>ABC Manufacturing</td>\n",
       "      <td>8692.110</td>\n",
       "    </tr>\n",
       "  </tbody>\n",
       "</table>\n",
       "</div>"
      ],
      "text/plain": [
       "     FIN_YEAR MONTH    STATE            FG     DISTRICT            COMPANY  \\\n",
       "49  2014-2015   Dec  Haryana  Insecticides       Ambala  ABC Manufacturing   \n",
       "50  2014-2015   Dec  Haryana  Insecticides  Yamunanagar  ABC Manufacturing   \n",
       "51  2014-2015   Dec  Haryana  Insecticides       Karnal  ABC Manufacturing   \n",
       "52  2014-2015   Dec  Haryana  Insecticides      Panipat  ABC Manufacturing   \n",
       "53  2014-2015   Dec  Haryana  Insecticides      Sonipat  ABC Manufacturing   \n",
       "\n",
       "        VALUE  \n",
       "49   6019.380  \n",
       "50    425.250  \n",
       "51  14782.635  \n",
       "52   4031.910  \n",
       "53   8692.110  "
      ]
     },
     "execution_count": 18,
     "metadata": {},
     "output_type": "execute_result"
    }
   ],
   "source": [
    "# dataset\n",
    "dataset = pd.read_excel(\"dataset/Sales_Forecast_Data.xlsx\")\n",
    "# ABC Manufacturing company observations\n",
    "abc_dataset = dataset[dataset['COMPANY']=='ABC Manufacturing']\n",
    "abc_dataset.head()"
   ]
  },
  {
   "cell_type": "code",
   "execution_count": 73,
   "metadata": {},
   "outputs": [
    {
     "name": "stdout",
     "output_type": "stream",
     "text": [
      "                 0\n",
      "49      2014-12-01\n",
      "50      2014-12-01\n",
      "51      2014-12-01\n",
      "52      2014-12-01\n",
      "53      2014-12-01\n",
      "...            ...\n",
      "230090  2017-02-01\n",
      "230144  2016-12-01\n",
      "230145  2016-12-01\n",
      "230146  2016-12-01\n",
      "230147  2016-12-01\n",
      "\n",
      "[28640 rows x 1 columns]\n"
     ]
    }
   ],
   "source": [
    "# Financial year last quarter month\n",
    "FIN_YEAR_LAST_QUAT_MONTH = ['Jan', 'Feb', 'Mar']\n",
    "\n",
    "# Converting month year to date\n",
    "def convert_month_year_date(month, year):\n",
    "    datetime_object = datetime.strptime(month, \"%b\")\n",
    "    month = datetime_object.strftime(\"%B\")\n",
    "    string_date = f\"1 {month}, {year}\"\n",
    "    date_converted = datetime.strptime(string_date, '%d %B, %Y')\n",
    "    return date_converted.strftime('%Y-%m-%d')\n",
    "    \n",
    "# Converting fin year month to year month date\n",
    "def convert_fin_year_month_to_year_month_date(row):\n",
    "    # splitting years\n",
    "    years = row['FIN_YEAR'].split('-')\n",
    "    \n",
    "    # If finacial year last quarter\n",
    "    if row['MONTH'] in FIN_YEAR_LAST_QUAT_MONTH:\n",
    "        return convert_month_year_date(row['MONTH'], years[1])\n",
    "    else:\n",
    "        return convert_month_year_date(row['MONTH'], years[0])\n",
    "\n",
    "# Creating date from fin year and month \n",
    "converted_date = abc_dataset.apply (lambda row: convert_fin_year_month_to_year_month_date(row), axis=1)\n",
    "# converted_date.reset_index(drop=True, inplace=True)\n",
    "print(pd.DataFrame(converted_date))"
   ]
  },
  {
   "cell_type": "code",
   "execution_count": 7,
   "metadata": {},
   "outputs": [
    {
     "name": "stdout",
     "output_type": "stream",
     "text": [
      "<class 'pandas.core.frame.DataFrame'>\n",
      "Int64Index: 28640 entries, 49 to 230147\n",
      "Data columns (total 7 columns):\n",
      " #   Column    Non-Null Count  Dtype  \n",
      "---  ------    --------------  -----  \n",
      " 0   FIN_YEAR  28640 non-null  object \n",
      " 1   MONTH     28640 non-null  object \n",
      " 2   STATE     28640 non-null  object \n",
      " 3   FG        28640 non-null  object \n",
      " 4   DISTRICT  28640 non-null  object \n",
      " 5   COMPANY   28640 non-null  object \n",
      " 6   VALUE     28640 non-null  float64\n",
      "dtypes: float64(1), object(6)\n",
      "memory usage: 1.7+ MB\n",
      "count    28640.000000\n",
      "mean      1796.852611\n",
      "std       4290.020075\n",
      "min          0.000000\n",
      "25%          0.000000\n",
      "50%         36.382500\n",
      "75%       1278.180000\n",
      "max      69828.750000\n",
      "Name: VALUE, dtype: float64\n",
      "['2014-2015' '2015-2016' '2016-2017' '2017-2018']\n",
      "['Dec' 'Jul' 'Aug' 'Sep' 'Oct' 'Nov' 'Apr' 'Feb' 'Jan' 'Mar' 'May' 'Jun']\n",
      "['Haryana' 'Himachal Pradesh' 'Punjab' 'Uttar Pradesh' 'Uttarakhand']\n",
      "['Insecticides' 'Herbicides' 'Rodenticides' 'Bactericides']\n",
      "['Ambala' 'Yamunanagar' 'Karnal' 'Panipat' 'Sonipat' 'Jind' 'Fatehabad'\n",
      " 'Hisar' 'Bhiwani' 'Rohtak' 'Mahendragarh' 'Rewari' 'Mewat' 'Faridabad'\n",
      " 'Palwal' 'Kangra' 'Kullu' 'Mandi' 'Hamirpur' 'Bilaspur' 'Solan' 'Shimla'\n",
      " 'Chamba' 'Sirmaur' 'Lahul And Spiti' 'Una' 'Kinnaur' 'Kurukshetra'\n",
      " 'Kaithal' 'Sirsa' 'Gurgaon' 'Panchkula' 'Jhajjar' 'Gurdaspur'\n",
      " 'Kapurthala' 'Jalandhar' 'Hoshiarpur' 'Nawanshahr' 'Ludhiana' 'Moga'\n",
      " 'Muktsar' 'Bathinda' 'Mansa' 'Patiala' 'Tarn Taran' 'Sangrur' 'Barnala'\n",
      " 'Fatehgarh Sahib' 'Firozepur' 'Faridkot' 'Amritsar' 'S.A.S Nagar'\n",
      " 'Rupnagar' 'Rae Bareli' 'Etawah' 'Kanpur Dehat' 'Kanpur Nagar' 'Jalaun'\n",
      " 'Lalitpur' 'Fatehpur' 'Pratapgarh' 'Allahabad' 'Barabanki' 'Faizabad'\n",
      " 'Sultanpur' 'Bahraich' 'Shravasti' 'Balrampur' 'Gonda' 'Siddharth Nagar'\n",
      " 'Basti' 'Sant Kabeer Nagar' 'Maharajganj' 'Gorakhpur' 'Kushi Nagar'\n",
      " 'Deoria' 'Mau' 'Chandauli' 'Varanasi' 'Etah' 'Kanshiram Nagar' 'Amethi'\n",
      " 'Saharanpur' 'Muzaffarnagar' 'Bijnor' 'Rampur' 'Meerut' 'Baghpat'\n",
      " 'Ghaziabad' 'Gautam Buddha Nagar' 'Bulandshahr' 'Mahamaya Nagar'\n",
      " 'Mathura' 'Agra' 'Firozabad' 'Mainpuri' 'Budaun' 'Bareilly' 'Kheri'\n",
      " 'Sitapur' 'Hardoi' 'Unnao' 'Lucknow' 'Kannauj' 'Banda' 'Kaushambi'\n",
      " 'Ambedkar Nagar' 'Aligarh' 'Pilibhit' 'Shahjahanpur' 'Farrukhabad'\n",
      " 'Auraiya' 'Jhansi' 'Mahoba' 'Chitrakoot' 'Jyotiba Phule Nagar' 'Azamgarh'\n",
      " 'Ballia' 'Jaunpur' 'Ghazipur' 'Sant Ravidas Nagar' 'Sonbhadra'\n",
      " 'Moradabad' 'Pauri Garhwal' 'Dehradun' 'Udam Singh Nagar' 'Pithoragarh'\n",
      " 'Mirzapur' 'Rudra Prayag' 'Champawat' 'Nainital' 'Haridwar' 'Chamoli'\n",
      " 'Tehri Garhwal' 'Bageshwar' 'Almora' 'Uttar Kashi' 'Hapur' 'Shamli'\n",
      " 'Sambhal' 'Fazilka']\n"
     ]
    }
   ],
   "source": [
    "# analysis\n",
    "abc_dataset.info() # total 28640\n",
    "print(abc_dataset.VALUE.describe())\n",
    "print(abc_dataset.FIN_YEAR.unique())\n",
    "print(abc_dataset.MONTH.unique())\n",
    "print(abc_dataset.STATE.unique())\n",
    "print(abc_dataset.FG.unique())\n",
    "print(abc_dataset.DISTRICT.unique())"
   ]
  },
  {
   "cell_type": "code",
   "execution_count": 8,
   "metadata": {},
   "outputs": [
    {
     "data": {
      "text/html": [
       "<div>\n",
       "<style scoped>\n",
       "    .dataframe tbody tr th:only-of-type {\n",
       "        vertical-align: middle;\n",
       "    }\n",
       "\n",
       "    .dataframe tbody tr th {\n",
       "        vertical-align: top;\n",
       "    }\n",
       "\n",
       "    .dataframe thead th {\n",
       "        text-align: right;\n",
       "    }\n",
       "</style>\n",
       "<table border=\"1\" class=\"dataframe\">\n",
       "  <thead>\n",
       "    <tr style=\"text-align: right;\">\n",
       "      <th></th>\n",
       "      <th>FIN_YEAR</th>\n",
       "      <th>MONTH</th>\n",
       "      <th>STATE</th>\n",
       "      <th>FG</th>\n",
       "      <th>DISTRICT</th>\n",
       "      <th>COMPANY</th>\n",
       "      <th>VALUE</th>\n",
       "    </tr>\n",
       "  </thead>\n",
       "  <tbody>\n",
       "    <tr>\n",
       "      <th>141</th>\n",
       "      <td>2014-2015</td>\n",
       "      <td>Jul</td>\n",
       "      <td>Himachal Pradesh</td>\n",
       "      <td>Insecticides</td>\n",
       "      <td>Kangra</td>\n",
       "      <td>ABC Manufacturing</td>\n",
       "      <td>3075.300</td>\n",
       "    </tr>\n",
       "    <tr>\n",
       "      <th>142</th>\n",
       "      <td>2014-2015</td>\n",
       "      <td>Jul</td>\n",
       "      <td>Himachal Pradesh</td>\n",
       "      <td>Insecticides</td>\n",
       "      <td>Kullu</td>\n",
       "      <td>ABC Manufacturing</td>\n",
       "      <td>89.100</td>\n",
       "    </tr>\n",
       "    <tr>\n",
       "      <th>143</th>\n",
       "      <td>2014-2015</td>\n",
       "      <td>Jul</td>\n",
       "      <td>Himachal Pradesh</td>\n",
       "      <td>Insecticides</td>\n",
       "      <td>Mandi</td>\n",
       "      <td>ABC Manufacturing</td>\n",
       "      <td>1561.005</td>\n",
       "    </tr>\n",
       "    <tr>\n",
       "      <th>144</th>\n",
       "      <td>2014-2015</td>\n",
       "      <td>Jul</td>\n",
       "      <td>Himachal Pradesh</td>\n",
       "      <td>Insecticides</td>\n",
       "      <td>Hamirpur</td>\n",
       "      <td>ABC Manufacturing</td>\n",
       "      <td>133.650</td>\n",
       "    </tr>\n",
       "    <tr>\n",
       "      <th>145</th>\n",
       "      <td>2014-2015</td>\n",
       "      <td>Jul</td>\n",
       "      <td>Himachal Pradesh</td>\n",
       "      <td>Insecticides</td>\n",
       "      <td>Bilaspur</td>\n",
       "      <td>ABC Manufacturing</td>\n",
       "      <td>2568.915</td>\n",
       "    </tr>\n",
       "  </tbody>\n",
       "</table>\n",
       "</div>"
      ],
      "text/plain": [
       "      FIN_YEAR MONTH             STATE            FG  DISTRICT  \\\n",
       "141  2014-2015   Jul  Himachal Pradesh  Insecticides    Kangra   \n",
       "142  2014-2015   Jul  Himachal Pradesh  Insecticides     Kullu   \n",
       "143  2014-2015   Jul  Himachal Pradesh  Insecticides     Mandi   \n",
       "144  2014-2015   Jul  Himachal Pradesh  Insecticides  Hamirpur   \n",
       "145  2014-2015   Jul  Himachal Pradesh  Insecticides  Bilaspur   \n",
       "\n",
       "               COMPANY     VALUE  \n",
       "141  ABC Manufacturing  3075.300  \n",
       "142  ABC Manufacturing    89.100  \n",
       "143  ABC Manufacturing  1561.005  \n",
       "144  ABC Manufacturing   133.650  \n",
       "145  ABC Manufacturing  2568.915  "
      ]
     },
     "execution_count": 8,
     "metadata": {},
     "output_type": "execute_result"
    }
   ],
   "source": [
    "# ['Haryana' 'Himachal Pradesh' 'Punjab' 'Uttar Pradesh' 'Uttarakhand']\n",
    "abc_haryana_dataset = abc_dataset[abc_dataset['STATE']=='Haryana']\n",
    "abc_himachal_dataset = abc_dataset[abc_dataset['STATE']=='Himachal Pradesh']\n",
    "abc_punjab_dataset = abc_dataset[abc_dataset['STATE']=='Punjab']\n",
    "abc_uttarpradesh_dataset = abc_dataset[abc_dataset['STATE']=='Uttar Pradesh']\n",
    "abc_uttarakhand_dataset = abc_dataset[abc_dataset['STATE']=='Uttarakhand']\n",
    "\n",
    "abc_himachal_dataset.head()"
   ]
  },
  {
   "cell_type": "code",
   "execution_count": null,
   "metadata": {},
   "outputs": [],
   "source": []
  },
  {
   "cell_type": "code",
   "execution_count": 9,
   "metadata": {},
   "outputs": [
    {
     "data": {
      "text/plain": [
       "[<matplotlib.lines.Line2D at 0x7fb928679c40>]"
      ]
     },
     "execution_count": 9,
     "metadata": {},
     "output_type": "execute_result"
    },
    {
     "data": {
      "image/png": "[encoded data removed]",
      "text/plain": [
       "<Figure size 432x288 with 1 Axes>"
      ]
     },
     "metadata": {
      "needs_background": "light"
     },
     "output_type": "display_data"
    }
   ],
   "source": [
    "plt.plot(abc_haryana_dataset['VALUE'])"
   ]
  },
  {
   "cell_type": "code",
   "execution_count": 10,
   "metadata": {},
   "outputs": [
    {
     "name": "stdout",
     "output_type": "stream",
     "text": [
      "2017-03-08\n"
     ]
    }
   ],
   "source": [
    "from datetime import datetime\n",
    "\n",
    "s = \"8 March, 2017\"\n",
    "d = datetime.strptime(s, '%d %B, %Y')\n",
    "print(d.strftime('%Y-%m-%d'))\n",
    "# print(d.strftime('%Y-%m-%d'))"
   ]
  },
  {
   "cell_type": "code",
   "execution_count": null,
   "metadata": {},
   "outputs": [],
   "source": []
  }
 ],
 "metadata": {
  "kernelspec": {
   "display_name": "Python 3",
   "language": "python",
   "name": "python3"
  },
  "language_info": {
   "codemirror_mode": {
    "name": "ipython",
    "version": 3
   },
   "file_extension": ".py",
   "mimetype": "text/x-python",
   "name": "python",
   "nbconvert_exporter": "python",
   "pygments_lexer": "ipython3",
   "version": "3.8.5"
  }
 },
 "nbformat": 4,
 "nbformat_minor": 5
}
